{
 "cells": [
  {
   "cell_type": "code",
   "execution_count": 1,
   "metadata": {},
   "outputs": [],
   "source": [
    "# Libraries \n",
    "import os\n",
    "import csv\n",
    "\n",
    "\n",
    "# os.path.join() is a function that ask to get the address of the file\n",
    "pyBank_data = os.path.join(\"PyBank\",\"Resources\",\"budget_data.csv\") \n",
    "\n"
   ]
  },
  {
   "cell_type": "code",
   "execution_count": 2,
   "metadata": {},
   "outputs": [],
   "source": [
    "# setting a variable\n",
    "totalAmount = 0\n",
    "totalMonths = 0\n",
    "Average = 0\n",
    "previous = 0\n",
    "difference = 0\n",
    "sum_of_difference = 0\n",
    "average_change = 0\n",
    "change_list = []\n",
    "#this line just opens the file\n",
    "#while the pybank file is open"
   ]
  },
  {
   "cell_type": "code",
   "execution_count": 3,
   "metadata": {},
   "outputs": [
    {
     "name": "stdout",
     "output_type": "stream",
     "text": [
      "Total Months: 86\n",
      "Total Amount: 38382578\n",
      "Average Difference: -2315.1176470588234\n",
      "The greatest increase is: 532868\n"
     ]
    }
   ],
   "source": [
    "with open(pyBank_data) as data:\n",
    "    #read the file \n",
    "    csvReader = csv.reader(data,delimiter=',')\n",
    "    # we need to tell the loop to skip the first row\n",
    "    header = next(csvReader)\n",
    "    previous = 867884\n",
    "    #for every row in the file\n",
    "    for row in csvReader:\n",
    "        # totalMonths += 1\n",
    "        # 1 = 0 + 1\n",
    "        totalMonths = totalMonths +1\n",
    "        # totalAmount(new) = totalAmount(old) +row\n",
    "        totalAmount = totalAmount + int(row[1])\n",
    "        difference = int(row[1])-previous \n",
    "        previous = int(row[1])\n",
    "        change_list += [int(difference)]\n",
    "        \n",
    "    print(\"Total Months:\",totalMonths)\n",
    "    print(\"Total Amount:\", totalAmount) \n",
    "    average_change=sum(change_list)/(totalMonths - 1)\n",
    "    print(\"Average Difference:\", average_change)\n",
    "    \n",
    "    print(\"The greatest increase is:\", difference -1)"
   ]
  },
  {
   "cell_type": "code",
   "execution_count": 4,
   "metadata": {},
   "outputs": [
    {
     "name": "stdout",
     "output_type": "stream",
     "text": [
      "Average: 446309.0465116279\n"
     ]
    }
   ],
   "source": [
    "Average = totalAmount/totalMonths\n",
    "print(\"Average:\", Average)\n"
   ]
  },
  {
   "cell_type": "code",
   "execution_count": 5,
   "metadata": {},
   "outputs": [
    {
     "name": "stdout",
     "output_type": "stream",
     "text": [
      "['Date', 'Profit/Losses']\n",
      "['Jan-2010', '867884']\n",
      "['Feb-2010', '984655']\n",
      "116771\n",
      "-662642\n"
     ]
    }
   ],
   "source": [
    "  #while the pybank file is open\\n\",\n",
    "with open(pyBank_data) as data:\n",
    "     #read the file \\n\",\n",
    "     csvReader = csv.reader(data,delimiter=',')\n",
    "     # we need to tell the loop to skip the first row\\n\",\n",
    "     header = next(csvReader) #->next row\\n\",\n",
    "     firstRow = next(csvReader) # -> jan-2010 row\\n\",\n",
    "     secondRow = next(csvReader)\n",
    "     thirdRow = next(csvReader)\n",
    "     valueChange1 = int(secondRow[1])-int(firstRow[1])\n",
    "     valueChange2 = int(thirdRow[1])- int(secondRow[1])\n",
    "     \n",
    "     print(header)\n",
    "     print(firstRow)\n",
    "     print(secondRow)\n",
    "     print(valueChange1)\n",
    "     print(valueChange2)"
   ]
  },
  {
   "cell_type": "code",
   "execution_count": 6,
   "metadata": {},
   "outputs": [],
   "source": [
    "if valueChange1 > valueChange2:\n",
    "    greatestIncrease = valueChange1\n",
    "else:\n",
    "     greatestIncrease = valueChange2"
   ]
  },
  {
   "cell_type": "code",
   "execution_count": 7,
   "metadata": {},
   "outputs": [
    {
     "data": {
      "text/plain": [
       "116771"
      ]
     },
     "execution_count": 7,
     "metadata": {},
     "output_type": "execute_result"
    }
   ],
   "source": [
    "greatestIncrease\n"
   ]
  },
  {
   "cell_type": "code",
   "execution_count": 8,
   "metadata": {},
   "outputs": [
    {
     "name": "stdout",
     "output_type": "stream",
     "text": [
      "0\n"
     ]
    }
   ],
   "source": [
    "maximum_increase = 0\n",
    "difference = 0\n",
    "with open(pyBank_data) as data:\n",
    "    #read the file \n",
    "    csvReader = csv.reader(data,delimiter=',')\n",
    "def max_increase(seq):\n",
    "    i = 0\n",
    "    maximum_increase = 0\n",
    "    for i in range(len(seq)):\n",
    "        difference = 0\n",
    "        for j in range(i + 1, len(seq)):\n",
    "            difference = seq[j] - seq[i]\n",
    "            if 0 <= maximum_increase < difference:\n",
    "                maximum_increase = difference\n",
    "    return maximum_increase\n",
    "print(maximum_increase)"
   ]
  },
  {
   "cell_type": "code",
   "execution_count": null,
   "metadata": {},
   "outputs": [],
   "source": []
  }
 ],
 "metadata": {
  "kernelspec": {
   "display_name": "Python 3",
   "language": "python",
   "name": "python3"
  },
  "language_info": {
   "codemirror_mode": {
    "name": "ipython",
    "version": 3
   },
   "file_extension": ".py",
   "mimetype": "text/x-python",
   "name": "python",
   "nbconvert_exporter": "python",
   "pygments_lexer": "ipython3",
   "version": "3.8.5"
  }
 },
 "nbformat": 4,
 "nbformat_minor": 4
}
